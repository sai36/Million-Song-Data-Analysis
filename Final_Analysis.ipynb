{
 "cells": [
  {
   "cell_type": "code",
   "execution_count": 1,
   "metadata": {},
   "outputs": [],
   "source": [
    "import os\n",
    "import sys\n",
    "import numpy as np\n",
    "import h5py\n",
    "from pyspark import SparkContext, SparkConf\n",
    "import time\n",
    "import math\n",
    "import subprocess\n",
    "from operator import add"
   ]
  },
  {
   "cell_type": "code",
   "execution_count": 2,
   "metadata": {},
   "outputs": [],
   "source": [
    "from pyspark.sql import SparkSession\n",
    "\n",
    "spark_session = SparkSession\\\n",
    ".builder\\\n",
    ".master(\"spark://192.168.2.92:7077\")\\\n",
    ".appName(\"test_h5_2\")\\\n",
    ".config(\"spark.dynamicAllocation.enabled\", False)\\\n",
    ".config(\"spark.shuffle.service.enabled\", False)\\\n",
    ".config(\"spark.dynamicAllocation.executorIdleTimeout\",\"30s\")\\\n",
    ".config(\"spark.executor.cores\",2)\\\n",
    ".config(\"spark.driver.host\", \"192.168.2.92\")\\\n",
    ".getOrCreate()\\\n",
    "\n",
    "#        .config(\"spark.executor.memory\",471859200)\\\n",
    "# Old API (RDD)\n",
    "spark_context = spark_session.sparkContext"
   ]
  },
  {
   "cell_type": "code",
   "execution_count": 3,
   "metadata": {},
   "outputs": [
    {
     "data": {
      "text/html": [
       "\n",
       "        <div>\n",
       "            <p><b>SparkContext</b></p>\n",
       "\n",
       "            <p><a href=\"http://192.168.2.92:4040\">Spark UI</a></p>\n",
       "\n",
       "            <dl>\n",
       "              <dt>Version</dt>\n",
       "                <dd><code>v3.0.1</code></dd>\n",
       "              <dt>Master</dt>\n",
       "                <dd><code>spark://192.168.2.92:7077</code></dd>\n",
       "              <dt>AppName</dt>\n",
       "                <dd><code>test_h5_2</code></dd>\n",
       "            </dl>\n",
       "        </div>\n",
       "        "
      ],
      "text/plain": [
       "<SparkContext master=spark://192.168.2.92:7077 appName=test_h5_2>"
      ]
     },
     "execution_count": 3,
     "metadata": {},
     "output_type": "execute_result"
    }
   ],
   "source": [
    "spark_context"
   ]
  },
  {
   "cell_type": "code",
   "execution_count": 4,
   "metadata": {},
   "outputs": [],
   "source": [
    "# Creation of the list of decades we want, each decade (line) has a name, a starting year and an end year\n",
    "list_decades=[[\"1920's\",1920,1929],\n",
    "              [\"1930's\",1930,1939],\n",
    "              [\"1940's\",1940,1949],\n",
    "              [\"1950's\",1950,1959],\n",
    "              [\"1960's\",1960,1969],\n",
    "              [\"1970's\",1970,1979],\n",
    "              [\"1980's\",1980,1989],\n",
    "              [\"1990's\",1990,1999],\n",
    "              [\"2000's\",2000,2009],\n",
    "             [\"2010's\",2010,2019]]\n",
    "\n",
    "# Function to get the decade, returns the artist name and the decade\n",
    "def get_decade(line):\n",
    "    year=int(re.split(',', line)[17])\n",
    "    for decade in list_decades:\n",
    "        if year >= decade[1] and year <= decade[2]:\n",
    "            return (re.split(',', line)[8],decade[0])"
   ]
  },
  {
   "cell_type": "code",
   "execution_count": 5,
   "metadata": {},
   "outputs": [
    {
     "name": "stdout",
     "output_type": "stream",
     "text": [
      "####################################\n",
      "Top 3 artist of  1920's :\n",
      "-  \"b'Blind Lemon Jefferson'\" \t 3\n",
      "-  \"b'Blind Willie McTell'\" \t 1\n",
      "-  \"b'Charley Patton'\" \t 1\n",
      "####################################\n",
      "Top 3 artist of  1930's :\n",
      "-  \"b'Sleepy John Estes'\" \t 3\n",
      "-  \"b'Charley Patton'\" \t 1\n",
      "-  \"b'Red Foley'\" \t 1\n",
      "####################################\n",
      "Top 3 artist of  1940's :\n",
      "-  \"b'Tex Williams'\" \t 2\n",
      "-  \"b'Bukka White'\" \t 2\n",
      "####################################\n",
      "Top 3 artist of  1950's :\n",
      "-  \"b'Jackie Wilson'\" \t 5\n",
      "-  \"b'Georges Brassens'\" \t 3\n",
      "-  \"b'Don Gibson'\" \t 2\n",
      "####################################\n",
      "Top 3 artist of  1960's :\n",
      "-  \"b'Small Faces'\" \t 5\n",
      "-  \"b'Jacques Dutronc'\" \t 5\n",
      "-  \"b'The Box Tops'\" \t 4\n",
      "####################################\n",
      "Top 3 artist of  1970's :\n",
      "-  \"b'Bad Company'\" \t 6\n",
      "-  \"b'Michael Jackson'\" \t 5\n",
      "-  \"b'The New York Dolls'\" \t 4\n",
      "####################################\n",
      "Top 3 artist of  1980's :\n",
      "-  \"b'RUN-DMC'\" \t 7\n",
      "-  \"b'Michael Stanley Band'\" \t 6\n",
      "-  \"b'Thomas Dolby'\" \t 5\n",
      "####################################\n",
      "Top 3 artist of  1990's :\n",
      "-  \"b'Michael Gettel'\" \t 7\n",
      "-  \"b'EPMD'\" \t 7\n",
      "-  \"b'Shakira'\" \t 6\n",
      "####################################\n",
      "Top 3 artist of  2000's :\n",
      "-  \"b'Snow Patrol'\" \t 11\n",
      "-  \"b'Britney Spears'\" \t 8\n",
      "-  \"b'Ayo'\" \t 8\n",
      "####################################\n",
      "Top 3 artist of  2010's :\n",
      "-  \"b'Sister Hazel'\" \t 2\n",
      "-  \"b\"Vex'd\"\" \t 2\n",
      "-  \"b'John Mayall & The Bluesbreakers'\" \t 2\n",
      "Time taken for the execution: 0m 11s\n"
     ]
    }
   ],
   "source": [
    "#FOR ALL THE DATA PRESENT IN SINGLE CSV FILE\n",
    "import re\n",
    "start_time=time.time()\n",
    "rdd_one_csv = spark_context.textFile('hdfs://sai-master:9820/SongCSV.csv')\n",
    "header = rdd_one_csv.first()\n",
    "rdd_csv = rdd_one_csv.filter(lambda line : line != header)\n",
    "rdd_csv_filtered = rdd_csv.filter(lambda row: int(re.split(',', row)[17]) != 0)\n",
    "rdd_csv_decade=rdd_csv_filtered.map(get_decade)\n",
    "rdd_csv_mapped=rdd_csv_decade.map(lambda row: (row,1))\n",
    "rdd_csv_reduced=rdd_csv_mapped.reduceByKey(add)\n",
    "list_top3=[]\n",
    "for decade in list_decades:\n",
    "    top3=rdd_csv_reduced.filter(lambda row: row[0][1] == decade[0]).takeOrdered(3, key=lambda x: -x[1])\n",
    "    for artist in top3:\n",
    "        list_top3.append((artist[0][1],artist[0][0],artist[1]))\n",
    "\n",
    "# Visualisation of the output\n",
    "# Feel free to change it if you find another way to represent the output\n",
    "for decade in list_decades:\n",
    "    print(\"####################################\")\n",
    "    print(\"Top 3 artist of \",decade[0],\":\")\n",
    "    for artist in list_top3:\n",
    "        l_a_d=[]\n",
    "        if artist[0]==decade[0]:\n",
    "            l_a_d.append([artist[1],artist[2]])\n",
    "        for a in l_a_d:\n",
    "            print(\"- \",a[0],\"\\t\",a[1])\n",
    "\n",
    "\n",
    "total_time=time.time()-start_time\n",
    "print('Time taken for the execution: {}m {}s'.format(\n",
    "        math.floor(total_time / 60),\n",
    "        math.floor(total_time % 60),\n",
    "    ))"
   ]
  },
  {
   "cell_type": "code",
   "execution_count": 6,
   "metadata": {},
   "outputs": [],
   "source": [
    "spark_context.stop()"
   ]
  },
  {
   "cell_type": "markdown",
   "metadata": {},
   "source": [
    "# ANALYSIS WITH MULTIPLE CSV FILES"
   ]
  },
  {
   "cell_type": "code",
   "execution_count": 7,
   "metadata": {},
   "outputs": [
    {
     "data": {
      "text/html": [
       "\n",
       "        <div>\n",
       "            <p><b>SparkContext</b></p>\n",
       "\n",
       "            <p><a href=\"http://192.168.2.92:4040\">Spark UI</a></p>\n",
       "\n",
       "            <dl>\n",
       "              <dt>Version</dt>\n",
       "                <dd><code>v3.0.1</code></dd>\n",
       "              <dt>Master</dt>\n",
       "                <dd><code>spark://192.168.2.92:7077</code></dd>\n",
       "              <dt>AppName</dt>\n",
       "                <dd><code>test_h5_2</code></dd>\n",
       "            </dl>\n",
       "        </div>\n",
       "        "
      ],
      "text/plain": [
       "<SparkContext master=spark://192.168.2.92:7077 appName=test_h5_2>"
      ]
     },
     "execution_count": 7,
     "metadata": {},
     "output_type": "execute_result"
    }
   ],
   "source": [
    "from pyspark.sql import SparkSession\n",
    "\n",
    "spark_session = SparkSession\\\n",
    ".builder\\\n",
    ".master(\"spark://192.168.2.92:7077\")\\\n",
    ".appName(\"test_h5_2\")\\\n",
    ".config(\"spark.dynamicAllocation.enabled\", False)\\\n",
    ".config(\"spark.shuffle.service.enabled\", False)\\\n",
    ".config(\"spark.dynamicAllocation.executorIdleTimeout\",\"30s\")\\\n",
    ".config(\"spark.executor.cores\",2)\\\n",
    ".config(\"spark.driver.host\", \"192.168.2.92\")\\\n",
    ".getOrCreate()\\\n",
    "\n",
    "#        .config(\"spark.executor.memory\",471859200)\\\n",
    "# Old API (RDD)\n",
    "spark_context = spark_session.sparkContext\n",
    "spark_context"
   ]
  },
  {
   "cell_type": "code",
   "execution_count": 11,
   "metadata": {},
   "outputs": [],
   "source": [
    "rdd_text = spark_context.textFile(\"hdfs://192.168.2.92:9820/csv_dataset/*.csv\")"
   ]
  },
  {
   "cell_type": "code",
   "execution_count": 12,
   "metadata": {},
   "outputs": [],
   "source": [
    "# Creation of the list of decades we want, each decade (line) has a name, a starting year and an end year\n",
    "list_decades=[[\"1920's\",1920,1929],\n",
    "              [\"1930's\",1930,1939],\n",
    "              [\"1940's\",1940,1949],\n",
    "              [\"1950's\",1950,1959],\n",
    "              [\"1960's\",1960,1969],\n",
    "              [\"1970's\",1970,1979],\n",
    "              [\"1980's\",1980,1989],\n",
    "              [\"1990's\",1990,1999],\n",
    "              [\"2000's\",2000,2009],\n",
    "             [\"2010's\",2010,2019]]\n",
    "\n",
    "# Function to get the decade, returns the artist name and the decade\n",
    "def get_decade(line):\n",
    "    year=int(re.split(',', line)[17])\n",
    "    for decade in list_decades:\n",
    "        if year >= decade[1] and year <= decade[2]:\n",
    "            return (re.split(',', line)[8],decade[0])"
   ]
  },
  {
   "cell_type": "code",
   "execution_count": 13,
   "metadata": {},
   "outputs": [
    {
     "name": "stdout",
     "output_type": "stream",
     "text": [
      "####################################\n",
      "Top 3 artist of  1920's :\n",
      "-  \"b'Blind Lemon Jefferson'\" \t 3\n",
      "-  \"b'Ma Rainey'\" \t 1\n",
      "-  \"b'Charley Patton'\" \t 1\n",
      "####################################\n",
      "Top 3 artist of  1930's :\n",
      "-  \"b'Sleepy John Estes'\" \t 3\n",
      "-  \"b'Charley Patton'\" \t 1\n",
      "-  \"b'Red Foley'\" \t 1\n",
      "####################################\n",
      "Top 3 artist of  1940's :\n",
      "-  \"b'Tex Williams'\" \t 2\n",
      "-  \"b'Bukka White'\" \t 2\n",
      "####################################\n",
      "Top 3 artist of  1950's :\n",
      "-  \"b'Jackie Wilson'\" \t 5\n",
      "-  \"b'Georges Brassens'\" \t 3\n",
      "-  \"b'Don Gibson'\" \t 2\n",
      "####################################\n",
      "Top 3 artist of  1960's :\n",
      "-  \"b'Small Faces'\" \t 5\n",
      "-  \"b'Jacques Dutronc'\" \t 5\n",
      "-  \"b'The Shangri-Las'\" \t 4\n",
      "####################################\n",
      "Top 3 artist of  1970's :\n",
      "-  \"b'Bad Company'\" \t 6\n",
      "-  \"b'Michael Jackson'\" \t 5\n",
      "-  \"b'Hot Tuna'\" \t 4\n",
      "####################################\n",
      "Top 3 artist of  1980's :\n",
      "-  \"b'RUN-DMC'\" \t 7\n",
      "-  \"b'Michael Stanley Band'\" \t 6\n",
      "-  \"b'Black Flag'\" \t 5\n",
      "####################################\n",
      "Top 3 artist of  1990's :\n",
      "-  \"b'Michael Gettel'\" \t 7\n",
      "-  \"b'EPMD'\" \t 7\n",
      "-  \"b'Shakira'\" \t 6\n",
      "####################################\n",
      "Top 3 artist of  2000's :\n",
      "-  \"b'Snow Patrol'\" \t 11\n",
      "-  \"b'Britney Spears'\" \t 8\n",
      "-  \"b'Ayo'\" \t 8\n",
      "####################################\n",
      "Top 3 artist of  2010's :\n",
      "-  \"b'Susana Seivane'\" \t 2\n",
      "-  \"b'Sister Hazel'\" \t 2\n",
      "-  \"b'John Mayall & The Bluesbreakers'\" \t 2\n",
      "Time taken for the execution: 29m 13s\n"
     ]
    }
   ],
   "source": [
    "import re\n",
    "start_time=time.time()\n",
    "rdd_text = spark_context.textFile(\"hdfs://192.168.2.92:9820/csv_dataset/*.csv\")\n",
    "#rdd_one_csv = spark_context.textFile('hdfs://sai-master:9820/SongCSV.csv')\n",
    "rdd_text_filtered = rdd_text.filter(lambda row: int(re.split(',', row)[17]) != 0)\n",
    "rdd_text_decade= rdd_text_filtered.map(get_decade)\n",
    "rdd_text_mapped= rdd_text_decade.map(lambda row: (row,1))\n",
    "rdd_text_reduced= rdd_text_mapped.reduceByKey(add)\n",
    "list_top3=[]\n",
    "for decade in list_decades:\n",
    "    top3=rdd_text_reduced.filter(lambda row: row[0][1] == decade[0]).takeOrdered(3, key=lambda x: -x[1])\n",
    "    for artist in top3:\n",
    "        list_top3.append((artist[0][1],artist[0][0],artist[1]))\n",
    "\n",
    "# Visualisation of the output\n",
    "# Feel free to change it if you find another way to represent the output\n",
    "for decade in list_decades:\n",
    "    print(\"####################################\")\n",
    "    print(\"Top 3 artist of \",decade[0],\":\")\n",
    "    for artist in list_top3:\n",
    "        l_a_d=[]\n",
    "        if artist[0]==decade[0]:\n",
    "            l_a_d.append([artist[1],artist[2]])\n",
    "        for a in l_a_d:\n",
    "            print(\"- \",a[0],\"\\t\",a[1])\n",
    "\n",
    "\n",
    "total_time=time.time()-start_time\n",
    "print('Time taken for the execution: {}m {}s'.format(\n",
    "        math.floor(total_time / 60),\n",
    "        math.floor(total_time % 60),\n",
    "    ))"
   ]
  },
  {
   "cell_type": "code",
   "execution_count": null,
   "metadata": {},
   "outputs": [],
   "source": [
    "import re\n",
    "start_time=time.time()\n",
    "rdd_text = spark_context.textFile(\"hdfs://192.168.2.92:9820/csv_dataset/*.csv\")\n",
    "#rdd_one_csv = spark_context.textFile('hdfs://sai-master:9820/SongCSV.csv')\n",
    "rdd_text_filtered = rdd_text.filter(lambda row: int(re.split(',', row)[17]) != 0)\n",
    "rdd_text_decade= rdd_text_filtered.map(get_decade)\n",
    "rdd_text_mapped= rdd_text_decade.map(lambda row: (row,1))\n",
    "rdd_text_reduced= rdd_text_mapped.reduceByKey(add)\n",
    "list_top3=[]\n",
    "count = 0\n",
    "for decade in list_decades:\n",
    "    if (count <= 2):\n",
    "        count = count + 1\n",
    "        top3=rdd_text_reduced.filter(lambda row: row[0][1] == decade[0]).takeOrdered(3, key=lambda x: -x[1])\n",
    "        for artist in top3:\n",
    "            list_top3.append((artist[0][1],artist[0][0],artist[1]))\n",
    "    else:\n",
    "        break\n",
    "\n",
    "# Visualisation of the output\n",
    "# Feel free to change it if you find another way to represent the output\n",
    "for decade in list_decades:\n",
    "    print(\"####################################\")\n",
    "    print(\"Top 3 artist of \",decade[0],\":\")\n",
    "    for artist in list_top3:\n",
    "        l_a_d=[]\n",
    "        if artist[0]==decade[0]:\n",
    "            l_a_d.append([artist[1],artist[2]])\n",
    "        for a in l_a_d:\n",
    "            print(\"- \",a[0],\"\\t\",a[1])\n",
    "\n",
    "\n",
    "total_time=time.time()-start_time\n",
    "print('Time taken for the execution: {}m {}s'.format(\n",
    "        math.floor(total_time / 60),\n",
    "        math.floor(total_time % 60),\n",
    "    ))"
   ]
  },
  {
   "cell_type": "code",
   "execution_count": 14,
   "metadata": {},
   "outputs": [],
   "source": [
    "spark_context.stop()"
   ]
  },
  {
   "cell_type": "code",
   "execution_count": null,
   "metadata": {},
   "outputs": [],
   "source": []
  }
 ],
 "metadata": {
  "kernelspec": {
   "display_name": "Python 3",
   "language": "python",
   "name": "python3"
  },
  "language_info": {
   "codemirror_mode": {
    "name": "ipython",
    "version": 3
   },
   "file_extension": ".py",
   "mimetype": "text/x-python",
   "name": "python",
   "nbconvert_exporter": "python",
   "pygments_lexer": "ipython3",
   "version": "3.6.9"
  }
 },
 "nbformat": 4,
 "nbformat_minor": 2
}
